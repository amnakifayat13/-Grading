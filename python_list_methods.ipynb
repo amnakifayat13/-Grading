{
  "nbformat": 4,
  "nbformat_minor": 0,
  "metadata": {
    "colab": {
      "provenance": [],
      "authorship_tag": "ABX9TyMHm/wmHf4siMD0Kkl/6zcr",
      "include_colab_link": true
    },
    "kernelspec": {
      "name": "python3",
      "display_name": "Python 3"
    },
    "language_info": {
      "name": "python"
    }
  },
  "cells": [
    {
      "cell_type": "markdown",
      "metadata": {
        "id": "view-in-github",
        "colab_type": "text"
      },
      "source": [
        "<a href=\"https://colab.research.google.com/github/amnakifayat13/-Grading/blob/main/python_list_methods.ipynb\" target=\"_parent\"><img src=\"https://colab.research.google.com/assets/colab-badge.svg\" alt=\"Open In Colab\"/></a>"
      ]
    },
    {
      "cell_type": "markdown",
      "source": [
        "# reverse list by using sort method\n"
      ],
      "metadata": {
        "id": "yrCguRI0rpgj"
      }
    },
    {
      "cell_type": "code",
      "source": [
        "my_list = [4,3,2,1,5]\n",
        "my_list.sort(reverse = True)\n",
        "print(my_list)"
      ],
      "metadata": {
        "colab": {
          "base_uri": "https://localhost:8080/"
        },
        "id": "xf7AKOZGrut2",
        "outputId": "3030c529-335b-4168-e465-8d3a866eedb3"
      },
      "execution_count": 6,
      "outputs": [
        {
          "output_type": "stream",
          "name": "stdout",
          "text": [
            "[5, 4, 3, 2, 1]\n"
          ]
        }
      ]
    },
    {
      "cell_type": "markdown",
      "source": [
        "# get unique numbers in list"
      ],
      "metadata": {
        "id": "jcloiw6Wr7sU"
      }
    },
    {
      "cell_type": "code",
      "source": [
        "numbers = [4,3,5,6,7,4,2,8,2]\n",
        "unique_numbers = list(set(numbers))\n",
        "print(unique_numbers)"
      ],
      "metadata": {
        "colab": {
          "base_uri": "https://localhost:8080/"
        },
        "id": "bF5bGToysByD",
        "outputId": "846efa3b-2c29-484c-af7d-2aeb83d33cbe"
      },
      "execution_count": 7,
      "outputs": [
        {
          "output_type": "stream",
          "name": "stdout",
          "text": [
            "[2, 3, 4, 5, 6, 7, 8]\n"
          ]
        }
      ]
    },
    {
      "cell_type": "markdown",
      "source": [
        "# get index numbers with items in list"
      ],
      "metadata": {
        "id": "h-Jzgl15sVgT"
      }
    },
    {
      "cell_type": "code",
      "source": [
        "fruits = [\"apple\", \"banana\", \"cherry\"]\n",
        "for index, fruit in enumerate(fruits):\n",
        "    print(index, fruit)"
      ],
      "metadata": {
        "colab": {
          "base_uri": "https://localhost:8080/"
        },
        "id": "P0trf9CAsa1E",
        "outputId": "41d11871-131f-4c74-9923-d91485c38647"
      },
      "execution_count": 8,
      "outputs": [
        {
          "output_type": "stream",
          "name": "stdout",
          "text": [
            "0 apple\n",
            "1 banana\n",
            "2 cherry\n"
          ]
        }
      ]
    },
    {
      "cell_type": "markdown",
      "source": [
        "# iterate two list"
      ],
      "metadata": {
        "id": "VayYCqVOslC2"
      }
    },
    {
      "cell_type": "code",
      "source": [
        "names = [\"Ali\", \"Sara\", \"ahmed\"]\n",
        "ages = [20, 25,  26]\n",
        "for name, age in zip(names, ages):\n",
        "    print(f\"{name} is {age} years old\")"
      ],
      "metadata": {
        "colab": {
          "base_uri": "https://localhost:8080/"
        },
        "id": "peWHf8aEssGA",
        "outputId": "39a722e3-03c3-4edd-d8ea-1663945c9940"
      },
      "execution_count": 10,
      "outputs": [
        {
          "output_type": "stream",
          "name": "stdout",
          "text": [
            "Ali is 20 years old\n",
            "Sara is 25 years old\n",
            "ahmed is 26 years old\n"
          ]
        }
      ]
    }
  ]
}